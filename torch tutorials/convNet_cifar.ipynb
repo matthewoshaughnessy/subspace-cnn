{
 "cells": [
  {
   "cell_type": "code",
   "execution_count": 1,
   "metadata": {},
   "outputs": [
    {
     "data": {
      "text/plain": [
       "'\\nTraining a classifier\\n=====================\\nThis is it. You have seen how to define neural networks, compute loss and make\\nupdates to the weights of the network.\\nNow you might be thinking,\\nWhat about data?\\n----------------\\nGenerally, when you have to deal with image, text, audio or video data,\\nyou can use standard python packages that load data into a numpy array.\\nThen you can convert this array into a ``torch.*Tensor``.\\n-  For images, packages such as Pillow, OpenCV are useful\\n-  For audio, packages such as scipy and librosa\\n-  For text, either raw Python or Cython based loading, or NLTK and\\n   SpaCy are useful\\nSpecifically for vision, we have created a package called\\n``torchvision``, that has data loaders for common datasets such as\\nImagenet, CIFAR10, MNIST, etc. and data transformers for images, viz.,\\n``torchvision.datasets`` and ``torch.utils.data.DataLoader``.\\nThis provides a huge convenience and avoids writing boilerplate code.\\nFor this tutorial, we will use the CIFAR10 dataset.\\nIt has the classes: ‘airplane’, ‘automobile’, ‘bird’, ‘cat’, ‘deer’,\\n‘dog’, ‘frog’, ‘horse’, ‘ship’, ‘truck’. The images in CIFAR-10 are of\\nsize 3x32x32, i.e. 3-channel color images of 32x32 pixels in size.\\n.. figure:: /_static/img/cifar10.png\\n   :alt: cifar10\\n   cifar10\\nTraining an image classifier\\n----------------------------\\nWe will do the following steps in order:\\n1. Load and normalizing the CIFAR10 training and test datasets using\\n   ``torchvision``\\n2. Define a Convolution Neural Network\\n3. Define a loss function\\n4. Train the network on the training data\\n5. Test the network on the test data\\n1. Loading and normalizing CIFAR10\\n^^^^^^^^^^^^^^^^^^^^^^^^^^^^^^^^^^\\nUsing ``torchvision``, it’s extremely easy to load CIFAR10.\\n'"
      ]
     },
     "execution_count": 1,
     "metadata": {},
     "output_type": "execute_result"
    }
   ],
   "source": [
    "# -*- coding: utf-8 -*-\n",
    "\"\"\"\n",
    "Training a classifier\n",
    "=====================\n",
    "This is it. You have seen how to define neural networks, compute loss and make\n",
    "updates to the weights of the network.\n",
    "Now you might be thinking,\n",
    "What about data?\n",
    "----------------\n",
    "Generally, when you have to deal with image, text, audio or video data,\n",
    "you can use standard python packages that load data into a numpy array.\n",
    "Then you can convert this array into a ``torch.*Tensor``.\n",
    "-  For images, packages such as Pillow, OpenCV are useful\n",
    "-  For audio, packages such as scipy and librosa\n",
    "-  For text, either raw Python or Cython based loading, or NLTK and\n",
    "   SpaCy are useful\n",
    "Specifically for vision, we have created a package called\n",
    "``torchvision``, that has data loaders for common datasets such as\n",
    "Imagenet, CIFAR10, MNIST, etc. and data transformers for images, viz.,\n",
    "``torchvision.datasets`` and ``torch.utils.data.DataLoader``.\n",
    "This provides a huge convenience and avoids writing boilerplate code.\n",
    "For this tutorial, we will use the CIFAR10 dataset.\n",
    "It has the classes: ‘airplane’, ‘automobile’, ‘bird’, ‘cat’, ‘deer’,\n",
    "‘dog’, ‘frog’, ‘horse’, ‘ship’, ‘truck’. The images in CIFAR-10 are of\n",
    "size 3x32x32, i.e. 3-channel color images of 32x32 pixels in size.\n",
    ".. figure:: /_static/img/cifar10.png\n",
    "   :alt: cifar10\n",
    "   cifar10\n",
    "Training an image classifier\n",
    "----------------------------\n",
    "We will do the following steps in order:\n",
    "1. Load and normalizing the CIFAR10 training and test datasets using\n",
    "   ``torchvision``\n",
    "2. Define a Convolution Neural Network\n",
    "3. Define a loss function\n",
    "4. Train the network on the training data\n",
    "5. Test the network on the test data\n",
    "1. Loading and normalizing CIFAR10\n",
    "^^^^^^^^^^^^^^^^^^^^^^^^^^^^^^^^^^\n",
    "Using ``torchvision``, it’s extremely easy to load CIFAR10.\n",
    "\"\"\"\n"
   ]
  },
  {
   "cell_type": "code",
   "execution_count": 83,
   "metadata": {
    "collapsed": true
   },
   "outputs": [],
   "source": [
    "# for using custom, pre-processed data\n"
   ]
  },
  {
   "cell_type": "code",
   "execution_count": 93,
   "metadata": {},
   "outputs": [
    {
     "name": "stdout",
     "output_type": "stream",
     "text": [
      "Files already downloaded and verified\n",
      "Files already downloaded and verified\n",
      "('plane', 'car', 'bird', 'cat', 'deer', 'dog', 'frog', 'horse', 'ship', 'truck')\n"
     ]
    }
   ],
   "source": [
    "import torch\n",
    "import torchvision\n",
    "import torchvision.transforms as transforms\n",
    "import pickle\n",
    "import numpy as np\n",
    "\n",
    "%matplotlib inline\n",
    "\n",
    "def unpickle(file):\n",
    "    import pickle\n",
    "    with open(file, 'rb') as fo:\n",
    "        dict = pickle.load(fo, encoding='bytes')\n",
    "    return dict\n",
    "\n",
    "\n",
    "##########################################################################\n",
    "# The output of torchvision datasets are PILImage images of range [0, 1].#\n",
    "# We transform them to Tensors of normalized range [-1, 1].              #\n",
    "##########################################################################\n",
    "transform = transforms.Compose(\n",
    "    [transforms.ToTensor(),\n",
    "     transforms.Normalize((0.5, 0.5, 0.5), (0.5, 0.5, 0.5))])\n",
    "\n",
    "trainset = torchvision.datasets.CIFAR10(root='./data', train=True,\n",
    "                                        download=True, transform=transform)\n",
    "trainloader = torch.utils.data.DataLoader(trainset, batch_size=4,\n",
    "                                          shuffle=True, num_workers=2)\n",
    "\n",
    "#To use original testing data\n",
    "\n",
    "testset = torchvision.datasets.CIFAR10(root='./data', train=False,\n",
    "                                      download=True, transform=transform)\n",
    "\n",
    "\n",
    "# To use noisy testing data, uncomment the next three lines\n",
    "\n",
    "test_batch_noisy = unpickle('./data/cifar-10-batches-py/test_batch_20dB')\n",
    "\n",
    "features = np.reshape(test_batch_noisy,(10000,32,32,3),'F').astype('uint8')\n",
    "\n",
    "testset.test_data = features\n",
    "\n",
    "testloader = torch.utils.data.DataLoader(testset, batch_size=4,\n",
    "                                        shuffle=False, num_workers=2)\n",
    "\n",
    "classes = ('plane', 'car', 'bird', 'cat',\n",
    "           'deer', 'dog', 'frog', 'horse', 'ship', 'truck')\n",
    "print(classes)\n"
   ]
  },
  {
   "cell_type": "code",
   "execution_count": 94,
   "metadata": {},
   "outputs": [
    {
     "name": "stdout",
     "output_type": "stream",
     "text": [
      "plane  bird truck horse\n"
     ]
    },
    {
     "data": {
      "image/png": "[encoded data removed]",
      "text/plain": [
       "<matplotlib.figure.Figure at 0x10e45bcf8>"
      ]
     },
     "metadata": {},
     "output_type": "display_data"
    }
   ],
   "source": [
    "########################################################################\n",
    "# Let us show some of the training images, for fun.\n",
    "\n",
    "import matplotlib.pyplot as plt\n",
    "import numpy as np\n",
    "\n",
    "# functions to show an image\n",
    "\n",
    "\n",
    "def imshow(img):\n",
    "    img = img / 2 + 0.5     # unnormalize\n",
    "    npimg = img.numpy()\n",
    "    plt.imshow(np.transpose(npimg, (1, 2, 0)))\n",
    "\n",
    "\n",
    "# get some random training images\n",
    "dataiter = iter(trainloader)\n",
    "images, labels = dataiter.next()\n",
    "\n",
    "# show images\n",
    "imshow(torchvision.utils.make_grid(images))\n",
    "# print labels\n",
    "print(' '.join('%5s' % classes[labels[j]] for j in range(4)))\n",
    "\n",
    "\n"
   ]
  },
  {
   "cell_type": "code",
   "execution_count": 95,
   "metadata": {
    "collapsed": true
   },
   "outputs": [],
   "source": [
    "########################################################################\n",
    "# 2. Define a Convolution Neural Network\n",
    "# Copy the neural network from the Neural Networks section before and modify it to\n",
    "# take 3-channel images (instead of 1-channel images as it was defined).\n",
    "\n",
    "from torch.autograd import Variable\n",
    "import torch.nn as nn\n",
    "import torch.nn.functional as F\n",
    "\n",
    "\n",
    "# Add/remove lines here to add/remove layers in the neural network\n",
    "\n",
    "class Net(nn.Module):\n",
    "    def __init__(self):\n",
    "        super(Net, self).__init__()\n",
    "        self.conv1 = nn.Conv2d(3, 6, 5)\n",
    "        self.pool = nn.MaxPool2d(2, 2)\n",
    "        self.conv2 = nn.Conv2d(6, 16, 5)\n",
    "        self.fc1 = nn.Linear(16 * 5 * 5, 120)\n",
    "        self.fc2 = nn.Linear(120, 84)\n",
    "        self.fc3 = nn.Linear(84, 10)\n",
    "\n",
    "    def forward(self, x):\n",
    "        x = self.pool(F.relu(self.conv1(x)))\n",
    "        x = self.pool(F.relu(self.conv2(x)))\n",
    "        x = x.view(-1, 16 * 5 * 5)\n",
    "        x = F.relu(self.fc1(x))\n",
    "        x = F.relu(self.fc2(x))\n",
    "        x = self.fc3(x)\n",
    "        return x\n",
    "\n",
    "\n",
    "net = Net()\n"
   ]
  },
  {
   "cell_type": "code",
   "execution_count": 96,
   "metadata": {},
   "outputs": [
    {
     "name": "stdout",
     "output_type": "stream",
     "text": [
      "6 5 5\n",
      "16 5 5\n"
     ]
    }
   ],
   "source": [
    "##################################################################\n",
    "# Define basis and basis indices for each conv layer \n",
    "##################################################################\n",
    "from Projection.basis_gen import *\n",
    "import scipy.fftpack\n",
    "\n",
    "# Conv1\n",
    "F1 = (net.conv1.weight).size()[0]\n",
    "H1 = (net.conv1.weight).size()[2]\n",
    "W1 = (net.conv1.weight).size()[3]\n",
    "print(F1,H1,W1)\n",
    "\n",
    "dim1 = np.int(0.5*H1*W1)\n",
    "\n",
    "basis_indices1 = gen_basis_indices(F1,H1,W1,dim1)\n",
    "\n",
    "\n",
    "# Conv2\n",
    "F2 = (net.conv2.weight).size()[0]\n",
    "H2 = (net.conv2.weight).size()[2]\n",
    "W2 = (net.conv2.weight).size()[3]\n",
    "print(F2,H2,W2)\n",
    "\n",
    "dim2 = np.int(0.5*H2*W2)\n",
    "\n",
    "basis_indices2 = gen_basis_indices(F2,H2,W2,dim2)\n",
    "        \n",
    "    \n",
    " # The full basis\n",
    "basis1 = scipy.fftpack.dct(np.eye(H1*W1),norm='ortho')  \n",
    "basis2 = scipy.fftpack.dct(np.eye(H2*W2),norm='ortho')    "
   ]
  },
  {
   "cell_type": "code",
   "execution_count": 97,
   "metadata": {
    "collapsed": true
   },
   "outputs": [],
   "source": [
    "\n",
    "\n",
    "########################################################################\n",
    "# 3. Define a Loss function and optimizer\n",
    "# Let's use a Classification Cross-Entropy loss and SGD with momentum.\n",
    "\n",
    "import torch.optim as optim\n",
    "\n",
    "criterion = nn.CrossEntropyLoss()\n",
    "optimizer = optim.SGD(net.parameters(), lr=0.001, momentum=0.9)"
   ]
  },
  {
   "cell_type": "code",
   "execution_count": 98,
   "metadata": {},
   "outputs": [
    {
     "name": "stdout",
     "output_type": "stream",
     "text": [
      "[1,  2000] loss: 2.215\n",
      "[1,  4000] loss: 1.976\n",
      "[1,  6000] loss: 1.788\n",
      "[1,  8000] loss: 1.659\n",
      "[1, 10000] loss: 1.571\n",
      "[1, 12000] loss: 1.520\n",
      "[2,  2000] loss: 1.458\n",
      "[2,  4000] loss: 1.421\n",
      "[2,  6000] loss: 1.393\n",
      "[2,  8000] loss: 1.372\n",
      "[2, 10000] loss: 1.345\n",
      "[2, 12000] loss: 1.314\n",
      "[3,  2000] loss: 1.271\n",
      "[3,  4000] loss: 1.269\n",
      "[3,  6000] loss: 1.269\n",
      "[3,  8000] loss: 1.239\n",
      "[3, 10000] loss: 1.222\n",
      "[3, 12000] loss: 1.232\n",
      "[4,  2000] loss: 1.171\n",
      "[4,  4000] loss: 1.165\n",
      "[4,  6000] loss: 1.177\n",
      "[4,  8000] loss: 1.173\n",
      "[4, 10000] loss: 1.153\n",
      "[4, 12000] loss: 1.168\n",
      "Finished Training\n"
     ]
    }
   ],
   "source": [
    "########################################################################\n",
    "# 4. Train the network\n",
    "\n",
    "# This is when things start to get interesting.\n",
    "# We simply have to loop over our data iterator, and feed the inputs to the\n",
    "# network and optimize.\n",
    "\n",
    "from Projection.regularization import *\n",
    "\n",
    "for epoch in range(4):  # loop over the dataset multiple times\n",
    "\n",
    "    running_loss = 0.0\n",
    "    for i, data in enumerate(trainloader, 0):\n",
    "        # get the inputs\n",
    "        inputs, labels = data\n",
    "        \n",
    "        # wrap them in Variable\n",
    "        inputs, labels = Variable(inputs), Variable(labels)\n",
    "        \n",
    "        # zero the parameter gradients\n",
    "        optimizer.zero_grad()\n",
    "\n",
    "        # forward + backward + optimize\n",
    "        outputs = net(inputs)\n",
    "        loss = criterion(outputs, labels)\n",
    "        loss.backward()\n",
    "        optimizer.step()\n",
    "        \n",
    "        \n",
    "        \n",
    "        w1 = net.conv1.weight.data.numpy()\n",
    "        w2 = net.conv2.weight.data.numpy()\n",
    "        \n",
    "        w1p  = (subspace_projection(dim1,w1,basis1,basis_indices1))\n",
    "      \n",
    "        w2p  = (subspace_projection(dim2,w2,basis2,basis_indices2))\n",
    "    \n",
    "        \n",
    "        net.conv1.weight.data = (torch.from_numpy(w1p)).type(torch.FloatTensor)\n",
    "        net.conv2.weight.data = (torch.from_numpy(w2p)).type(torch.FloatTensor)\n",
    "        \n",
    "#         w1n = net.conv1.weight.data.numpy()\n",
    "#         w2n = net.conv2.weight.data.numpy()\n",
    "        \n",
    "        #print(np.linalg.norm(w1 - w1n))\n",
    "        #print(np.linalg.norm(w2 - w2n))\n",
    "        \n",
    "      \n",
    "        # print statistics\n",
    "        running_loss += loss.data[0]\n",
    "        if i % 2000 == 1999:    # print every 2000 mini-batches\n",
    "            print('[%d, %5d] loss: %.3f' %\n",
    "                  (epoch + 1, i + 1, running_loss / 2000))\n",
    "            running_loss = 0.0\n",
    "\n",
    "print('Finished Training')"
   ]
  },
  {
   "cell_type": "code",
   "execution_count": 99,
   "metadata": {},
   "outputs": [
    {
     "name": "stdout",
     "output_type": "stream",
     "text": [
      "(6, 3, 5, 5)\n",
      "(5, 5)\n"
     ]
    },
    {
     "data": {
      "text/plain": [
       "[<matplotlib.lines.Line2D at 0x100e8a2b0>]"
      ]
     },
     "execution_count": 99,
     "metadata": {},
     "output_type": "execute_result"
    },
    {
     "data": {
      "image/png": "[encoded data removed]",
      "text/plain": [
       "<matplotlib.figure.Figure at 0x10d0c2f98>"
      ]
     },
     "metadata": {},
     "output_type": "display_data"
    },
    {
     "data": {
      "image/png": "[encoded data removed]",
      "text/plain": [
       "<matplotlib.figure.Figure at 0x10ce354e0>"
      ]
     },
     "metadata": {},
     "output_type": "display_data"
    },
    {
     "data": {
      "image/png": "[encoded data removed]",
      "text/plain": [
       "<matplotlib.figure.Figure at 0x10d358630>"
      ]
     },
     "metadata": {},
     "output_type": "display_data"
    }
   ],
   "source": [
    "# Verify that the weights lie in the subspace\n",
    "\n",
    "import scipy\n",
    "W1 = net.conv1.weight.data.numpy()\n",
    "print(W1.shape)\n",
    "basis = scipy.fftpack.dct(np.eye(25),norm='ortho')\n",
    "\n",
    "fil_1 = W1[4,:,:,:]\n",
    "fil_1_ch_1 = fil_1[0,:,:]\n",
    "fil_1_ch_2 = fil_1[1,:,:]\n",
    "fil_1_ch_3 = fil_1[2,:,:]\n",
    "\n",
    "\n",
    "print(fil_1_ch_1.shape)\n",
    "\n",
    "coeff_fil_1_ch_1 = np.dot(basis.T,np.reshape(fil_1_ch_1,25,'F'))\n",
    "coeff_fil_1_ch_2 = np.dot(basis.T,np.reshape(fil_1_ch_2,25,'F'))\n",
    "coeff_fil_1_ch_3 = np.dot(basis.T,np.reshape(fil_1_ch_3,25,'F'))\n",
    "\n",
    "plt.figure()\n",
    "plt.plot(np.abs(coeff_fil_1_ch_1),'*-')\n",
    "plt.figure()\n",
    "plt.plot(np.abs(coeff_fil_1_ch_2),'*-')\n",
    "plt.figure()\n",
    "plt.plot(np.abs(coeff_fil_1_ch_3),'*-')"
   ]
  },
  {
   "cell_type": "code",
   "execution_count": 100,
   "metadata": {
    "collapsed": true
   },
   "outputs": [],
   "source": [
    "########################################################################\n",
    "# 5. Test the network on the test data\n",
    "# ^^^^^^^^^^^^^^^^^^^^^^^^^^^^^^^^^^^^\n",
    "#\n",
    "# We have trained the network for 2 passes over the training dataset.\n",
    "# But we need to check if the network has learnt anything at all.\n",
    "#\n",
    "# We will check this by predicting the class label that the neural network\n",
    "# outputs, and checking it against the ground-truth. If the prediction is\n",
    "# correct, we add the sample to the list of correct predictions.\n",
    "#\n",
    "# Okay, first step. Let us display an image from the test set to get familiar.\n",
    "\n",
    "#dataiter = iter(testloader)\n",
    "#images, labels = dataiter.next()\n",
    "\n",
    "# print images\n",
    "#imshow(torchvision.utils.make_grid(images))\n",
    "#print('GroundTruth: ', ' '.join('%5s' % classes[labels[j]] for j in range(4)))"
   ]
  },
  {
   "cell_type": "code",
   "execution_count": 101,
   "metadata": {},
   "outputs": [
    {
     "name": "stdout",
     "output_type": "stream",
     "text": [
      "Predicted:  plane   dog   car horse\n",
      "2189\n",
      "Accuracy of the network on the 10000 test images: 21 %\n",
      "Accuracy of plane : 27 %\n",
      "Accuracy of   car :  6 %\n",
      "Accuracy of  bird : 20 %\n",
      "Accuracy of   cat : 24 %\n",
      "Accuracy of  deer : 37 %\n",
      "Accuracy of   dog :  6 %\n",
      "Accuracy of  frog : 64 %\n",
      "Accuracy of horse :  3 %\n",
      "Accuracy of  ship : 11 %\n",
      "Accuracy of truck : 18 %\n"
     ]
    }
   ],
   "source": [
    "\n",
    "\n",
    "########################################################################\n",
    "# Okay, now let us see what the neural network thinks these examples above are:\n",
    "\n",
    "outputs = net(Variable(images))\n",
    "\n",
    "########################################################################\n",
    "# The outputs are energies for the 10 classes.\n",
    "# Higher the energy for a class, the more the network\n",
    "# thinks that the image is of the particular class.\n",
    "# So, let's get the index of the highest energy:\n",
    "_, predicted = torch.max(outputs.data, 1)\n",
    "\n",
    "print('Predicted: ', ' '.join('%5s' % classes[predicted[j]]\n",
    "                              for j in range(4)))\n",
    "\n",
    "########################################################################\n",
    "# Let us look at how the network performs on the whole dataset.\n",
    "\n",
    "correct = 0\n",
    "total = 0\n",
    "for data in testloader:\n",
    "    images, labels = data\n",
    "    outputs = net(Variable(images))\n",
    "    _, predicted = torch.max(outputs.data, 1)\n",
    "    total += labels.size(0)\n",
    "    correct += (predicted == labels).sum()\n",
    "print(correct)\n",
    "print('Accuracy of the network on the 10000 test images: %d %%' % (\n",
    "    100 * correct / total))\n",
    "\n",
    "########################################################################\n",
    "# That looks waaay better than chance, which is 10% accuracy (randomly picking\n",
    "# a class out of 10 classes).\n",
    "# Seems like the network learnt something.\n",
    "#\n",
    "# Hmmm, what are the classes that performed well, and the classes that did\n",
    "# not perform well:\n",
    "\n",
    "class_correct = list(0. for i in range(10))\n",
    "class_total = list(0. for i in range(10))\n",
    "for data in testloader:\n",
    "    images, labels = data\n",
    "    outputs = net(Variable(images))\n",
    "    _, predicted = torch.max(outputs.data, 1)\n",
    "    c = (predicted == labels).squeeze()\n",
    "    for i in range(4):\n",
    "        label = labels[i]\n",
    "        class_correct[label] += c[i]\n",
    "        class_total[label] += 1\n",
    "\n",
    "\n",
    "for i in range(10):\n",
    "    print('Accuracy of %5s : %2d %%' % (\n",
    "        classes[i], 100 * class_correct[i] / class_total[i]))\n"
   ]
  },
  {
   "cell_type": "code",
   "execution_count": null,
   "metadata": {
    "collapsed": true
   },
   "outputs": [],
   "source": [
    "\n",
    "########################################################################\n",
    "# Okay, so what next?\n",
    "#\n",
    "# How do we run these neural networks on the GPU?\n",
    "#\n",
    "# Training on GPU\n",
    "# ----------------\n",
    "# Just like how you transfer a Tensor on to the GPU, you transfer the neural\n",
    "# net onto the GPU.\n",
    "# This will recursively go over all modules and convert their parameters and\n",
    "# buffers to CUDA tensors:\n",
    "#\n",
    "# .. code:: python\n",
    "#\n",
    "#     net.cuda()\n",
    "#\n",
    "#\n",
    "# Remember that you will have to send the inputs and targets at every step\n",
    "# to the GPU too:\n",
    "#\n",
    "# ::\n",
    "#\n",
    "#         inputs, labels = Variable(inputs.cuda()), Variable(labels.cuda())\n",
    "#\n",
    "# Why dont I notice MASSIVE speedup compared to CPU? Because your network\n",
    "# is realllly small.\n",
    "#\n",
    "# **Exercise:** Try increasing the width of your network (argument 2 of\n",
    "# the first ``nn.Conv2d``, and argument 1 of the second ``nn.Conv2d`` –\n",
    "# they need to be the same number), see what kind of speedup you get.\n",
    "#\n",
    "# **Goals achieved**:\n",
    "#\n",
    "# - Understanding PyTorch's Tensor library and neural networks at a high level.\n",
    "# - Train a small neural network to classify images\n",
    "#\n",
    "# Training on multiple GPUs\n",
    "# -------------------------\n",
    "# If you want to see even more MASSIVE speedup using all of your GPUs,\n",
    "# please check out :doc:`data_parallel_tutorial`.\n",
    "#\n",
    "# Where do I go next?\n",
    "# -------------------\n",
    "#\n",
    "# -  :doc:`Train neural nets to play video games </intermediate/reinforcement_q_learning>`\n",
    "# -  `Train a state-of-the-art ResNet network on imagenet`_\n",
    "# -  `Train a face generator using Generative Adversarial Networks`_\n",
    "# -  `Train a word-level language model using Recurrent LSTM networks`_\n",
    "# -  `More examples`_\n",
    "# -  `More tutorials`_\n",
    "# -  `Discuss PyTorch on the Forums`_\n",
    "# -  `Chat with other users on Slack`_\n",
    "#\n",
    "# .. _Train a state-of-the-art ResNet network on imagenet: https://github.com/pytorch/examples/tree/master/imagenet\n",
    "# .. _Train a face generator using Generative Adversarial Networks: https://github.com/pytorch/examples/tree/master/dcgan\n",
    "# .. _Train a word-level language model using Recurrent LSTM networks: https://github.com/pytorch/examples/tree/master/word_language_model\n",
    "# .. _More examples: https://github.com/pytorch/examples\n",
    "# .. _More tutorials: https://github.com/pytorch/tutorials\n",
    "# .. _Discuss PyTorch on the Forums: https://discuss.pytorch.org/\n",
    "# .. _Chat with other users on Slack: http://pytorch.slack.com/messages/beginner/"
   ]
  }
 ],
 "metadata": {
  "kernelspec": {
   "display_name": "Python 3",
   "language": "python",
   "name": "python3"
  },
  "language_info": {
   "codemirror_mode": {
    "name": "ipython",
    "version": 3
   },
   "file_extension": ".py",
   "mimetype": "text/x-python",
   "name": "python",
   "nbconvert_exporter": "python",
   "pygments_lexer": "ipython3",
   "version": "3.6.1"
  }
 },
 "nbformat": 4,
 "nbformat_minor": 2
}
